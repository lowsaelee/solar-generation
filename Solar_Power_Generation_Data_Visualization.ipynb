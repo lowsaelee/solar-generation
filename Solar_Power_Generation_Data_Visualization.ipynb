{
 "cells": [
  {
   "cell_type": "markdown",
   "metadata": {},
   "source": [
    "# Solar Readings - Data Visualization\n",
    "\n",
    "Data taken from home solar panel since it was turned on after installation on 9/1/2015 until current date"
   ]
  },
  {
   "cell_type": "markdown",
   "metadata": {},
   "source": [
    "Importing required packages"
   ]
  },
  {
   "cell_type": "code",
   "execution_count": 1,
   "metadata": {},
   "outputs": [],
   "source": [
    "import numpy as np\n",
    "import pandas as pd\n",
    "import datetime\n",
    "import matplotlib.pyplot as plt"
   ]
  },
  {
   "cell_type": "markdown",
   "metadata": {},
   "source": [
    "Reading in solar readings csv file"
   ]
  },
  {
   "cell_type": "code",
   "execution_count": 2,
   "metadata": {},
   "outputs": [],
   "source": [
    "df = pd.read_csv(\"SolarReadings.2021.11.29.csv\")"
   ]
  },
  {
   "cell_type": "markdown",
   "metadata": {},
   "source": [
    "Checking on data with df.head()"
   ]
  },
  {
   "cell_type": "code",
   "execution_count": 3,
   "metadata": {},
   "outputs": [
    {
     "data": {
      "text/html": [
       "<div>\n",
       "<style scoped>\n",
       "    .dataframe tbody tr th:only-of-type {\n",
       "        vertical-align: middle;\n",
       "    }\n",
       "\n",
       "    .dataframe tbody tr th {\n",
       "        vertical-align: top;\n",
       "    }\n",
       "\n",
       "    .dataframe thead th {\n",
       "        text-align: right;\n",
       "    }\n",
       "</style>\n",
       "<table border=\"1\" class=\"dataframe\">\n",
       "  <thead>\n",
       "    <tr style=\"text-align: right;\">\n",
       "      <th></th>\n",
       "      <th>Date</th>\n",
       "      <th>ID</th>\n",
       "      <th>Net Kwh</th>\n",
       "      <th>DailyGenerations</th>\n",
       "    </tr>\n",
       "  </thead>\n",
       "  <tbody>\n",
       "    <tr>\n",
       "      <th>0</th>\n",
       "      <td>9/1/2015</td>\n",
       "      <td>1</td>\n",
       "      <td>12</td>\n",
       "      <td>12</td>\n",
       "    </tr>\n",
       "    <tr>\n",
       "      <th>1</th>\n",
       "      <td>9/2/2015</td>\n",
       "      <td>2</td>\n",
       "      <td>24</td>\n",
       "      <td>12</td>\n",
       "    </tr>\n",
       "    <tr>\n",
       "      <th>2</th>\n",
       "      <td>9/3/2015</td>\n",
       "      <td>3</td>\n",
       "      <td>35</td>\n",
       "      <td>11</td>\n",
       "    </tr>\n",
       "    <tr>\n",
       "      <th>3</th>\n",
       "      <td>9/4/2015</td>\n",
       "      <td>4</td>\n",
       "      <td>46</td>\n",
       "      <td>11</td>\n",
       "    </tr>\n",
       "    <tr>\n",
       "      <th>4</th>\n",
       "      <td>9/5/2015</td>\n",
       "      <td>5</td>\n",
       "      <td>58</td>\n",
       "      <td>12</td>\n",
       "    </tr>\n",
       "  </tbody>\n",
       "</table>\n",
       "</div>"
      ],
      "text/plain": [
       "       Date  ID  Net Kwh  DailyGenerations\n",
       "0  9/1/2015   1       12                12\n",
       "1  9/2/2015   2       24                12\n",
       "2  9/3/2015   3       35                11\n",
       "3  9/4/2015   4       46                11\n",
       "4  9/5/2015   5       58                12"
      ]
     },
     "execution_count": 3,
     "metadata": {},
     "output_type": "execute_result"
    }
   ],
   "source": [
    "df.head()"
   ]
  },
  {
   "cell_type": "code",
   "execution_count": 4,
   "metadata": {},
   "outputs": [
    {
     "data": {
      "text/html": [
       "<div>\n",
       "<style scoped>\n",
       "    .dataframe tbody tr th:only-of-type {\n",
       "        vertical-align: middle;\n",
       "    }\n",
       "\n",
       "    .dataframe tbody tr th {\n",
       "        vertical-align: top;\n",
       "    }\n",
       "\n",
       "    .dataframe thead th {\n",
       "        text-align: right;\n",
       "    }\n",
       "</style>\n",
       "<table border=\"1\" class=\"dataframe\">\n",
       "  <thead>\n",
       "    <tr style=\"text-align: right;\">\n",
       "      <th></th>\n",
       "      <th>Date</th>\n",
       "      <th>ID</th>\n",
       "      <th>Net Kwh</th>\n",
       "      <th>DailyGenerations</th>\n",
       "    </tr>\n",
       "  </thead>\n",
       "  <tbody>\n",
       "    <tr>\n",
       "      <th>2277</th>\n",
       "      <td>11/25/2021</td>\n",
       "      <td>2278</td>\n",
       "      <td>19370</td>\n",
       "      <td>7</td>\n",
       "    </tr>\n",
       "    <tr>\n",
       "      <th>2278</th>\n",
       "      <td>11/26/2021</td>\n",
       "      <td>2279</td>\n",
       "      <td>19376</td>\n",
       "      <td>6</td>\n",
       "    </tr>\n",
       "    <tr>\n",
       "      <th>2279</th>\n",
       "      <td>11/27/2021</td>\n",
       "      <td>2280</td>\n",
       "      <td>19382</td>\n",
       "      <td>6</td>\n",
       "    </tr>\n",
       "    <tr>\n",
       "      <th>2280</th>\n",
       "      <td>11/28/2021</td>\n",
       "      <td>2281</td>\n",
       "      <td>19387</td>\n",
       "      <td>5</td>\n",
       "    </tr>\n",
       "    <tr>\n",
       "      <th>2281</th>\n",
       "      <td>11/29/2021</td>\n",
       "      <td>2282</td>\n",
       "      <td>19393</td>\n",
       "      <td>6</td>\n",
       "    </tr>\n",
       "  </tbody>\n",
       "</table>\n",
       "</div>"
      ],
      "text/plain": [
       "            Date    ID  Net Kwh  DailyGenerations\n",
       "2277  11/25/2021  2278    19370                 7\n",
       "2278  11/26/2021  2279    19376                 6\n",
       "2279  11/27/2021  2280    19382                 6\n",
       "2280  11/28/2021  2281    19387                 5\n",
       "2281  11/29/2021  2282    19393                 6"
      ]
     },
     "execution_count": 4,
     "metadata": {},
     "output_type": "execute_result"
    }
   ],
   "source": [
    "df.tail()"
   ]
  },
  {
   "cell_type": "markdown",
   "metadata": {},
   "source": [
    "Getting shape of dataframe"
   ]
  },
  {
   "cell_type": "code",
   "execution_count": 5,
   "metadata": {},
   "outputs": [
    {
     "data": {
      "text/plain": [
       "(2282, 4)"
      ]
     },
     "execution_count": 5,
     "metadata": {},
     "output_type": "execute_result"
    }
   ],
   "source": [
    "df.shape"
   ]
  },
  {
   "cell_type": "markdown",
   "metadata": {},
   "source": [
    "### Plotting the Average Daily kWh Generation by Month\n",
    "\n",
    "Data wrangling the date column"
   ]
  },
  {
   "cell_type": "code",
   "execution_count": 6,
   "metadata": {},
   "outputs": [
    {
     "name": "stdout",
     "output_type": "stream",
     "text": [
      "<class 'pandas.core.frame.DataFrame'>\n",
      "RangeIndex: 2282 entries, 0 to 2281\n",
      "Data columns (total 3 columns):\n",
      " #   Column  Non-Null Count  Dtype \n",
      "---  ------  --------------  ----- \n",
      " 0   year    2282 non-null   object\n",
      " 1   month   2282 non-null   object\n",
      " 2   daily   2282 non-null   int64 \n",
      "dtypes: int64(1), object(2)\n",
      "memory usage: 53.6+ KB\n"
     ]
    },
    {
     "data": {
      "text/html": [
       "<div>\n",
       "<style scoped>\n",
       "    .dataframe tbody tr th:only-of-type {\n",
       "        vertical-align: middle;\n",
       "    }\n",
       "\n",
       "    .dataframe tbody tr th {\n",
       "        vertical-align: top;\n",
       "    }\n",
       "\n",
       "    .dataframe thead th {\n",
       "        text-align: right;\n",
       "    }\n",
       "</style>\n",
       "<table border=\"1\" class=\"dataframe\">\n",
       "  <thead>\n",
       "    <tr style=\"text-align: right;\">\n",
       "      <th></th>\n",
       "      <th>year</th>\n",
       "      <th>month</th>\n",
       "      <th>daily</th>\n",
       "    </tr>\n",
       "  </thead>\n",
       "  <tbody>\n",
       "    <tr>\n",
       "      <th>0</th>\n",
       "      <td>2015</td>\n",
       "      <td>09</td>\n",
       "      <td>12</td>\n",
       "    </tr>\n",
       "    <tr>\n",
       "      <th>1</th>\n",
       "      <td>2015</td>\n",
       "      <td>09</td>\n",
       "      <td>12</td>\n",
       "    </tr>\n",
       "    <tr>\n",
       "      <th>2</th>\n",
       "      <td>2015</td>\n",
       "      <td>09</td>\n",
       "      <td>11</td>\n",
       "    </tr>\n",
       "    <tr>\n",
       "      <th>3</th>\n",
       "      <td>2015</td>\n",
       "      <td>09</td>\n",
       "      <td>11</td>\n",
       "    </tr>\n",
       "    <tr>\n",
       "      <th>4</th>\n",
       "      <td>2015</td>\n",
       "      <td>09</td>\n",
       "      <td>12</td>\n",
       "    </tr>\n",
       "  </tbody>\n",
       "</table>\n",
       "</div>"
      ],
      "text/plain": [
       "   year month  daily\n",
       "0  2015    09     12\n",
       "1  2015    09     12\n",
       "2  2015    09     11\n",
       "3  2015    09     11\n",
       "4  2015    09     12"
      ]
     },
     "execution_count": 6,
     "metadata": {},
     "output_type": "execute_result"
    }
   ],
   "source": [
    "df_date = df['Date'].str.split(\"/\", n=2, expand=True)\n",
    "df_date[0] = df_date[0].apply('{:0>2}'.format)\n",
    "df_date[1] = df_date[1].apply('{:0>2}'.format)\n",
    "df_date['month']=df_date[0]\n",
    "df_date['daily'] = df['DailyGenerations']\n",
    "df_date=df_date.drop([0,1], axis=1)\n",
    "df_date.columns.values[0]='year'\n",
    "df_date.info()\n",
    "df_date.head(5)"
   ]
  },
  {
   "cell_type": "code",
   "execution_count": 7,
   "metadata": {},
   "outputs": [
    {
     "name": "stdout",
     "output_type": "stream",
     "text": [
      "<class 'pandas.core.frame.DataFrame'>\n",
      "Int64Index: 186 entries, 122 to 1979\n",
      "Data columns (total 3 columns):\n",
      " #   Column  Non-Null Count  Dtype \n",
      "---  ------  --------------  ----- \n",
      " 0   year    186 non-null    object\n",
      " 1   month   186 non-null    object\n",
      " 2   daily   186 non-null    int64 \n",
      "dtypes: int64(1), object(2)\n",
      "memory usage: 5.8+ KB\n"
     ]
    },
    {
     "data": {
      "text/html": [
       "<div>\n",
       "<style scoped>\n",
       "    .dataframe tbody tr th:only-of-type {\n",
       "        vertical-align: middle;\n",
       "    }\n",
       "\n",
       "    .dataframe tbody tr th {\n",
       "        vertical-align: top;\n",
       "    }\n",
       "\n",
       "    .dataframe thead th {\n",
       "        text-align: right;\n",
       "    }\n",
       "</style>\n",
       "<table border=\"1\" class=\"dataframe\">\n",
       "  <thead>\n",
       "    <tr style=\"text-align: right;\">\n",
       "      <th></th>\n",
       "      <th>year</th>\n",
       "      <th>month</th>\n",
       "      <th>daily</th>\n",
       "    </tr>\n",
       "  </thead>\n",
       "  <tbody>\n",
       "    <tr>\n",
       "      <th>122</th>\n",
       "      <td>2016</td>\n",
       "      <td>01</td>\n",
       "      <td>7</td>\n",
       "    </tr>\n",
       "    <tr>\n",
       "      <th>123</th>\n",
       "      <td>2016</td>\n",
       "      <td>01</td>\n",
       "      <td>3</td>\n",
       "    </tr>\n",
       "    <tr>\n",
       "      <th>124</th>\n",
       "      <td>2016</td>\n",
       "      <td>01</td>\n",
       "      <td>3</td>\n",
       "    </tr>\n",
       "    <tr>\n",
       "      <th>125</th>\n",
       "      <td>2016</td>\n",
       "      <td>01</td>\n",
       "      <td>3</td>\n",
       "    </tr>\n",
       "    <tr>\n",
       "      <th>126</th>\n",
       "      <td>2016</td>\n",
       "      <td>01</td>\n",
       "      <td>2</td>\n",
       "    </tr>\n",
       "  </tbody>\n",
       "</table>\n",
       "</div>"
      ],
      "text/plain": [
       "     year month  daily\n",
       "122  2016    01      7\n",
       "123  2016    01      3\n",
       "124  2016    01      3\n",
       "125  2016    01      3\n",
       "126  2016    01      2"
      ]
     },
     "execution_count": 7,
     "metadata": {},
     "output_type": "execute_result"
    }
   ],
   "source": [
    "df_january = df_date[df_date['month']==\"01\"]\n",
    "df_january.info()\n",
    "df_january.head()"
   ]
  },
  {
   "cell_type": "code",
   "execution_count": 8,
   "metadata": {},
   "outputs": [
    {
     "data": {
      "text/plain": [
       "(186, 3)"
      ]
     },
     "execution_count": 8,
     "metadata": {},
     "output_type": "execute_result"
    }
   ],
   "source": [
    "df_january.shape"
   ]
  },
  {
   "cell_type": "code",
   "execution_count": 9,
   "metadata": {},
   "outputs": [
    {
     "data": {
      "text/plain": [
       "(0.0, 40.0)"
      ]
     },
     "execution_count": 9,
     "metadata": {},
     "output_type": "execute_result"
    },
    {
     "data": {
      "image/png": "[encoded data removed]",
      "text/plain": [
       "<Figure size 432x288 with 1 Axes>"
      ]
     },
     "metadata": {
      "needs_background": "light"
     },
     "output_type": "display_data"
    }
   ],
   "source": [
    "n, bins, patches = plt.hist(x=df_january['daily'], bins='auto', color='#0504aa',\n",
    "                            alpha=0.7, rwidth=0.85)\n",
    "#plt.figure(figsize=(20,10))\n",
    "plt.grid(axis='y', alpha=0.75)\n",
    "plt.xlabel('Kwh Generated')\n",
    "plt.ylabel('Frequency')\n",
    "plt.title('January Histogram')\n",
    "maxfreq = n.max()\n",
    "# Set a clean upper y-axis limit.\n",
    "plt.ylim(ymax=np.ceil(maxfreq / 10) * 10 if maxfreq % 10 else maxfreq + 10)"
   ]
  },
  {
   "cell_type": "code",
   "execution_count": 10,
   "metadata": {},
   "outputs": [
    {
     "name": "stdout",
     "output_type": "stream",
     "text": [
      "<class 'pandas.core.frame.DataFrame'>\n",
      "Int64Index: 180 entries, 274 to 2129\n",
      "Data columns (total 3 columns):\n",
      " #   Column  Non-Null Count  Dtype \n",
      "---  ------  --------------  ----- \n",
      " 0   year    180 non-null    object\n",
      " 1   month   180 non-null    object\n",
      " 2   daily   180 non-null    int64 \n",
      "dtypes: int64(1), object(2)\n",
      "memory usage: 5.6+ KB\n",
      "(180, 3)\n"
     ]
    },
    {
     "data": {
      "text/plain": [
       "(0.0, 80.0)"
      ]
     },
     "execution_count": 10,
     "metadata": {},
     "output_type": "execute_result"
    },
    {
     "data": {
      "image/png": "[encoded data removed]",
      "text/plain": [
       "<Figure size 432x288 with 1 Axes>"
      ]
     },
     "metadata": {
      "needs_background": "light"
     },
     "output_type": "display_data"
    }
   ],
   "source": [
    "df_june = df_date[df_date['month']==\"06\"]\n",
    "\n",
    "df_june.info()\n",
    "print(df_june.shape)\n",
    "\n",
    "n, bins, patches = plt.hist(x=df_june['daily'], bins=15, color='#0504aa',\n",
    "                            alpha=0.7)\n",
    "#plt.figure(figsize=(20,10))\n",
    "plt.grid(axis='y', alpha=0.75)\n",
    "plt.xlabel('Kwh Generated')\n",
    "plt.ylabel('Frequency')\n",
    "plt.title('June Histogram')\n",
    "maxfreq = n.max()\n",
    "# Set a clean upper y-axis limit.\n",
    "plt.ylim(ymax=np.ceil(maxfreq / 10) * 10 if maxfreq % 10 else maxfreq + 10)\n"
   ]
  },
  {
   "cell_type": "code",
   "execution_count": 11,
   "metadata": {},
   "outputs": [
    {
     "name": "stdout",
     "output_type": "stream",
     "text": [
      "<class 'pandas.core.frame.DataFrame'>\n",
      "RangeIndex: 2282 entries, 0 to 2281\n",
      "Data columns (total 3 columns):\n",
      " #   Column  Non-Null Count  Dtype\n",
      "---  ------  --------------  -----\n",
      " 0   year    2282 non-null   int32\n",
      " 1   month   2282 non-null   int32\n",
      " 2   daily   2282 non-null   int32\n",
      "dtypes: int32(3)\n",
      "memory usage: 26.9 KB\n",
      "<class 'pandas.core.frame.DataFrame'>\n",
      "Int64Index: 1128 entries, 0 to 2221\n",
      "Data columns (total 3 columns):\n",
      " #   Column  Non-Null Count  Dtype\n",
      "---  ------  --------------  -----\n",
      " 0   year    1128 non-null   int32\n",
      " 1   month   1128 non-null   int32\n",
      " 2   daily   1128 non-null   int32\n",
      "dtypes: int32(3)\n",
      "memory usage: 22.0 KB\n",
      "<class 'pandas.core.frame.DataFrame'>\n",
      "Int64Index: 1154 entries, 30 to 2281\n",
      "Data columns (total 3 columns):\n",
      " #   Column  Non-Null Count  Dtype\n",
      "---  ------  --------------  -----\n",
      " 0   year    1154 non-null   int32\n",
      " 1   month   1154 non-null   int32\n",
      " 2   daily   1154 non-null   int32\n",
      "dtypes: int32(3)\n",
      "memory usage: 22.5 KB\n"
     ]
    }
   ],
   "source": [
    "df_date2 = df_date.copy()\n",
    "df_date2 = df_date2.astype({'year':int,'month':int,'daily':int})\n",
    "df_date2.info()\n",
    "\n",
    "df_warm = df_date2[(df_date2['month'] > 3) & (df_date2['month'] < 10)]\n",
    "df_cold = df_date2[(df_date2['month'] < 4) | (df_date2['month'] > 9)] #or ((df_date2['month'] > 9) & (df_date2['month'] < 13))]\n",
    "#df_warm = df_date2[df_date2['monthDay'] == 4]\n",
    "#df_warm.info()\n",
    "\n",
    "df_warm.info()\n",
    "df_cold.info()"
   ]
  },
  {
   "cell_type": "code",
   "execution_count": 12,
   "metadata": {},
   "outputs": [
    {
     "data": {
      "image/png": "[encoded data removed]",
      "text/plain": [
       "<Figure size 432x288 with 1 Axes>"
      ]
     },
     "metadata": {
      "needs_background": "light"
     },
     "output_type": "display_data"
    }
   ],
   "source": [
    "plt.hist(df_warm['daily'], alpha = .5, label = \"warm months\")\n",
    "plt.hist(df_cold['daily'], alpha = .5, label = \"cold months\")\n",
    "plt.legend(loc=\"upper right\")\n",
    "plt.show()"
   ]
  },
  {
   "cell_type": "code",
   "execution_count": 13,
   "metadata": {},
   "outputs": [
    {
     "name": "stdout",
     "output_type": "stream",
     "text": [
      "DescribeResult(nobs=1128, minmax=(0, 15), mean=10.796099290780141, variance=5.182877406281662, skewness=-1.6441132731789798, kurtosis=3.0060821826380337)\n",
      "DescribeResult(nobs=1154, minmax=(0, 12), mean=6.250433275563259, variance=7.658824616966364, skewness=-0.2693477813365375, kurtosis=-0.5951782332718909)\n"
     ]
    }
   ],
   "source": [
    "from scipy import stats\n",
    "print(stats.describe(df_warm['daily']))\n",
    "print(stats.describe(df_cold['daily']))"
   ]
  },
  {
   "cell_type": "code",
   "execution_count": 14,
   "metadata": {},
   "outputs": [
    {
     "data": {
      "text/plain": [
       "Ttest_indResult(statistic=42.798047199109206, pvalue=2.9030233768478815e-294)"
      ]
     },
     "execution_count": 14,
     "metadata": {},
     "output_type": "execute_result"
    }
   ],
   "source": [
    "stats.ttest_ind(df_warm['daily'], df_cold['daily'])"
   ]
  },
  {
   "cell_type": "markdown",
   "metadata": {},
   "source": [
    "Grouping by month for average daily Kwh"
   ]
  },
  {
   "cell_type": "code",
   "execution_count": 15,
   "metadata": {},
   "outputs": [
    {
     "data": {
      "text/html": [
       "<div>\n",
       "<style scoped>\n",
       "    .dataframe tbody tr th:only-of-type {\n",
       "        vertical-align: middle;\n",
       "    }\n",
       "\n",
       "    .dataframe tbody tr th {\n",
       "        vertical-align: top;\n",
       "    }\n",
       "\n",
       "    .dataframe thead th {\n",
       "        text-align: right;\n",
       "    }\n",
       "</style>\n",
       "<table border=\"1\" class=\"dataframe\">\n",
       "  <thead>\n",
       "    <tr style=\"text-align: right;\">\n",
       "      <th></th>\n",
       "      <th>month</th>\n",
       "      <th>daily</th>\n",
       "    </tr>\n",
       "  </thead>\n",
       "  <tbody>\n",
       "    <tr>\n",
       "      <th>0</th>\n",
       "      <td>01</td>\n",
       "      <td>4.435484</td>\n",
       "    </tr>\n",
       "    <tr>\n",
       "      <th>1</th>\n",
       "      <td>02</td>\n",
       "      <td>6.970588</td>\n",
       "    </tr>\n",
       "    <tr>\n",
       "      <th>2</th>\n",
       "      <td>03</td>\n",
       "      <td>8.037634</td>\n",
       "    </tr>\n",
       "    <tr>\n",
       "      <th>3</th>\n",
       "      <td>04</td>\n",
       "      <td>10.077778</td>\n",
       "    </tr>\n",
       "    <tr>\n",
       "      <th>4</th>\n",
       "      <td>05</td>\n",
       "      <td>11.032258</td>\n",
       "    </tr>\n",
       "    <tr>\n",
       "      <th>5</th>\n",
       "      <td>06</td>\n",
       "      <td>12.150000</td>\n",
       "    </tr>\n",
       "    <tr>\n",
       "      <th>6</th>\n",
       "      <td>07</td>\n",
       "      <td>11.962366</td>\n",
       "    </tr>\n",
       "    <tr>\n",
       "      <th>7</th>\n",
       "      <td>08</td>\n",
       "      <td>10.419355</td>\n",
       "    </tr>\n",
       "    <tr>\n",
       "      <th>8</th>\n",
       "      <td>09</td>\n",
       "      <td>9.342857</td>\n",
       "    </tr>\n",
       "    <tr>\n",
       "      <th>9</th>\n",
       "      <td>10</td>\n",
       "      <td>7.820276</td>\n",
       "    </tr>\n",
       "    <tr>\n",
       "      <th>10</th>\n",
       "      <td>11</td>\n",
       "      <td>5.641148</td>\n",
       "    </tr>\n",
       "    <tr>\n",
       "      <th>11</th>\n",
       "      <td>12</td>\n",
       "      <td>4.473118</td>\n",
       "    </tr>\n",
       "  </tbody>\n",
       "</table>\n",
       "</div>"
      ],
      "text/plain": [
       "   month      daily\n",
       "0     01   4.435484\n",
       "1     02   6.970588\n",
       "2     03   8.037634\n",
       "3     04  10.077778\n",
       "4     05  11.032258\n",
       "5     06  12.150000\n",
       "6     07  11.962366\n",
       "7     08  10.419355\n",
       "8     09   9.342857\n",
       "9     10   7.820276\n",
       "10    11   5.641148\n",
       "11    12   4.473118"
      ]
     },
     "execution_count": 15,
     "metadata": {},
     "output_type": "execute_result"
    }
   ],
   "source": [
    "df_daily_average = df_date.groupby(['month'], as_index=False).mean()\n",
    "df_daily_average.head(12)"
   ]
  },
  {
   "cell_type": "markdown",
   "metadata": {},
   "source": [
    "Getting shape of new dataframe"
   ]
  },
  {
   "cell_type": "code",
   "execution_count": 16,
   "metadata": {},
   "outputs": [
    {
     "data": {
      "text/plain": [
       "(12, 2)"
      ]
     },
     "execution_count": 16,
     "metadata": {},
     "output_type": "execute_result"
    }
   ],
   "source": [
    "df_daily_average.shape"
   ]
  },
  {
   "cell_type": "markdown",
   "metadata": {},
   "source": [
    "Plotting Line Graph"
   ]
  },
  {
   "cell_type": "code",
   "execution_count": 17,
   "metadata": {},
   "outputs": [
    {
     "data": {
      "text/plain": [
       "Text(0, 0.5, 'Daily kWh')"
      ]
     },
     "execution_count": 17,
     "metadata": {},
     "output_type": "execute_result"
    },
    {
     "data": {
      "image/png": "[encoded data removed]",
      "text/plain": [
       "<Figure size 1440x720 with 1 Axes>"
      ]
     },
     "metadata": {
      "needs_background": "light"
     },
     "output_type": "display_data"
    }
   ],
   "source": [
    "%matplotlib inline\n",
    "plt.figure(figsize=(20,10))\n",
    "plt.bar(df_daily_average['month'],df_daily_average['daily'])\n",
    "plt.title(\"Average Daily kWh Generated\")\n",
    "plt.xlabel(\"Months\")\n",
    "plt.ylabel(\"Daily kWh\")"
   ]
  },
  {
   "cell_type": "markdown",
   "metadata": {},
   "source": [
    "### Plotting the Total Generation per Year"
   ]
  },
  {
   "cell_type": "markdown",
   "metadata": {},
   "source": [
    "Data wrangling"
   ]
  },
  {
   "cell_type": "code",
   "execution_count": 18,
   "metadata": {},
   "outputs": [
    {
     "data": {
      "text/html": [
       "<div>\n",
       "<style scoped>\n",
       "    .dataframe tbody tr th:only-of-type {\n",
       "        vertical-align: middle;\n",
       "    }\n",
       "\n",
       "    .dataframe tbody tr th {\n",
       "        vertical-align: top;\n",
       "    }\n",
       "\n",
       "    .dataframe thead th {\n",
       "        text-align: right;\n",
       "    }\n",
       "</style>\n",
       "<table border=\"1\" class=\"dataframe\">\n",
       "  <thead>\n",
       "    <tr style=\"text-align: right;\">\n",
       "      <th></th>\n",
       "      <th>Year</th>\n",
       "      <th>ID</th>\n",
       "      <th>Net Kwh</th>\n",
       "      <th>DailyGenerations</th>\n",
       "    </tr>\n",
       "  </thead>\n",
       "  <tbody>\n",
       "    <tr>\n",
       "      <th>0</th>\n",
       "      <td>2015</td>\n",
       "      <td>7503</td>\n",
       "      <td>64043</td>\n",
       "      <td>892</td>\n",
       "    </tr>\n",
       "    <tr>\n",
       "      <th>1</th>\n",
       "      <td>2016</td>\n",
       "      <td>111813</td>\n",
       "      <td>919165</td>\n",
       "      <td>3173</td>\n",
       "    </tr>\n",
       "    <tr>\n",
       "      <th>2</th>\n",
       "      <td>2017</td>\n",
       "      <td>244915</td>\n",
       "      <td>2049880</td>\n",
       "      <td>3065</td>\n",
       "    </tr>\n",
       "    <tr>\n",
       "      <th>3</th>\n",
       "      <td>2018</td>\n",
       "      <td>378140</td>\n",
       "      <td>3176235</td>\n",
       "      <td>3071</td>\n",
       "    </tr>\n",
       "    <tr>\n",
       "      <th>4</th>\n",
       "      <td>2019</td>\n",
       "      <td>511365</td>\n",
       "      <td>4282289</td>\n",
       "      <td>3044</td>\n",
       "    </tr>\n",
       "    <tr>\n",
       "      <th>5</th>\n",
       "      <td>2020</td>\n",
       "      <td>646539</td>\n",
       "      <td>5420561</td>\n",
       "      <td>3052</td>\n",
       "    </tr>\n",
       "    <tr>\n",
       "      <th>6</th>\n",
       "      <td>2021</td>\n",
       "      <td>704628</td>\n",
       "      <td>5939175</td>\n",
       "      <td>3094</td>\n",
       "    </tr>\n",
       "  </tbody>\n",
       "</table>\n",
       "</div>"
      ],
      "text/plain": [
       "   Year      ID  Net Kwh  DailyGenerations\n",
       "0  2015    7503    64043               892\n",
       "1  2016  111813   919165              3173\n",
       "2  2017  244915  2049880              3065\n",
       "3  2018  378140  3176235              3071\n",
       "4  2019  511365  4282289              3044\n",
       "5  2020  646539  5420561              3052\n",
       "6  2021  704628  5939175              3094"
      ]
     },
     "execution_count": 18,
     "metadata": {},
     "output_type": "execute_result"
    }
   ],
   "source": [
    "df['Year'] = df['Date'].str[-4:]\n",
    "df_year_daily = df.groupby(['Year'], as_index=False).sum()\n",
    "df_year_daily.head(7)"
   ]
  },
  {
   "cell_type": "markdown",
   "metadata": {},
   "source": [
    "Plotting bar chart"
   ]
  },
  {
   "cell_type": "code",
   "execution_count": 19,
   "metadata": {},
   "outputs": [
    {
     "data": {
      "text/plain": [
       "Text(0.5, 0, 'Years')"
      ]
     },
     "execution_count": 19,
     "metadata": {},
     "output_type": "execute_result"
    },
    {
     "data": {
      "image/png": "[encoded data removed]",
      "text/plain": [
       "<Figure size 1440x720 with 1 Axes>"
      ]
     },
     "metadata": {
      "needs_background": "light"
     },
     "output_type": "display_data"
    }
   ],
   "source": [
    "plt.figure(figsize=(20,10))\n",
    "plt.bar(df_year_daily['Year'],df_year_daily['DailyGenerations'])\n",
    "plt.title('Yearly Generations')\n",
    "plt.ylabel(\"kWh\")\n",
    "plt.xlabel(\"Years\")"
   ]
  },
  {
   "cell_type": "markdown",
   "metadata": {},
   "source": [
    "### Total Monthly Generation By Year"
   ]
  },
  {
   "cell_type": "markdown",
   "metadata": {},
   "source": [
    "Data wrangling"
   ]
  },
  {
   "cell_type": "code",
   "execution_count": 20,
   "metadata": {},
   "outputs": [],
   "source": [
    "df_date = df['Date'].str.split(\"/\", n=2, expand=True)\n",
    "df_date[0] = df_date[0].apply('{:0>2}'.format)\n",
    "df_date[1] = df_date[1].apply('{:0>2}'.format)\n",
    "df_date.head()\n",
    "\n",
    "\n",
    "df_date['monthDay']=df_date[0]\n",
    "df_date['dailykWh'] = df['DailyGenerations']\n",
    "df_date=df_date.drop([0,1], axis=1)\n",
    "\n",
    "df_date.columns.values[0]='year'\n",
    "df_year_2015 = df_date[df_date['year']==\"2015\"]\n",
    "df_year_2016 = df_date[df_date['year']==\"2016\"]\n",
    "df_year_2017 = df_date[df_date['year']==\"2017\"]\n",
    "df_year_2018 = df_date[df_date['year']==\"2018\"]\n",
    "df_year_2019 = df_date[df_date['year']==\"2019\"]\n",
    "df_year_2020 = df_date[df_date['year']==\"2020\"]\n",
    "df_year_2021 = df_date[df_date['year']==\"2021\"]\n",
    "\n",
    "df_daily_average1 = df_year_2015.groupby(['monthDay'], as_index=False).sum()\n",
    "df_daily_average2 = df_year_2016.groupby(['monthDay'], as_index=False).sum()\n",
    "df_daily_average3 = df_year_2017.groupby(['monthDay'], as_index=False).sum()\n",
    "df_daily_average4 = df_year_2018.groupby(['monthDay'], as_index=False).sum()\n",
    "df_daily_average5 = df_year_2019.groupby(['monthDay'], as_index=False).sum()\n",
    "df_daily_average6 = df_year_2020.groupby(['monthDay'], as_index=False).sum()\n",
    "df_daily_average7 = df_year_2021.groupby(['monthDay'], as_index=False).sum()"
   ]
  },
  {
   "cell_type": "markdown",
   "metadata": {},
   "source": [
    "Plotting line graph"
   ]
  },
  {
   "cell_type": "code",
   "execution_count": 38,
   "metadata": {},
   "outputs": [
    {
     "data": {
      "text/plain": [
       "<matplotlib.legend.Legend at 0x1ffd224f860>"
      ]
     },
     "execution_count": 38,
     "metadata": {},
     "output_type": "execute_result"
    },
    {
     "data": {
      "image/png": "[encoded data removed]",
      "text/plain": [
       "<Figure size 1440x720 with 1 Axes>"
      ]
     },
     "metadata": {
      "needs_background": "light"
     },
     "output_type": "display_data"
    }
   ],
   "source": [
    "plt.figure(figsize=(20,10))\n",
    "\n",
    "#plt.plot(df_daily_average1['monthDay'],df_daily_average1['dailykWh'],'-.c',label='2015')\n",
    "#plt.plot(df_daily_average2['monthDay'],df_daily_average2['dailykWh'],'--m',label='2016')\n",
    "#plt.plot(df_daily_average3['monthDay'],df_daily_average3['dailykWh'],'-.r',label='2017')\n",
    "#plt.plot(df_daily_average4['monthDay'],df_daily_average4['dailykWh'],'-.g',label='2018')\n",
    "plt.plot(df_daily_average5['monthDay'],df_daily_average5['dailykWh'],':b',label='2019')\n",
    "plt.plot(df_daily_average6['monthDay'],df_daily_average6['dailykWh'],'--r',label='2020')\n",
    "plt.plot(df_daily_average7['monthDay'],df_daily_average7['dailykWh'],'--g',label='2021')\n",
    "\n",
    "plt.title('Monthly kWh Generations by Years')\n",
    "plt.xlabel(\"Months\")\n",
    "plt.ylabel(\"kWh\")\n",
    "\n",
    "plt.xlim(0,11)\n",
    "plt.grid()\n",
    "plt.legend()"
   ]
  },
  {
   "cell_type": "markdown",
   "metadata": {},
   "source": [
    "## Scattered Plot"
   ]
  },
  {
   "cell_type": "code",
   "execution_count": 22,
   "metadata": {},
   "outputs": [
    {
     "name": "stdout",
     "output_type": "stream",
     "text": [
      "<class 'pandas.core.frame.DataFrame'>\n",
      "Int64Index: 2282 entries, 1583 to 1948\n",
      "Data columns (total 2 columns):\n",
      " #   Column    Non-Null Count  Dtype  \n",
      "---  ------    --------------  -----  \n",
      " 0   monthday  2282 non-null   float64\n",
      " 1   dailyKwh  2282 non-null   int64  \n",
      "dtypes: float64(1), int64(1)\n",
      "memory usage: 53.5 KB\n"
     ]
    },
    {
     "data": {
      "text/html": [
       "<div>\n",
       "<style scoped>\n",
       "    .dataframe tbody tr th:only-of-type {\n",
       "        vertical-align: middle;\n",
       "    }\n",
       "\n",
       "    .dataframe tbody tr th {\n",
       "        vertical-align: top;\n",
       "    }\n",
       "\n",
       "    .dataframe thead th {\n",
       "        text-align: right;\n",
       "    }\n",
       "</style>\n",
       "<table border=\"1\" class=\"dataframe\">\n",
       "  <thead>\n",
       "    <tr style=\"text-align: right;\">\n",
       "      <th></th>\n",
       "      <th>monthday</th>\n",
       "      <th>dailyKwh</th>\n",
       "    </tr>\n",
       "  </thead>\n",
       "  <tbody>\n",
       "    <tr>\n",
       "      <th>0</th>\n",
       "      <td>1.032258</td>\n",
       "      <td>5.166667</td>\n",
       "    </tr>\n",
       "    <tr>\n",
       "      <th>1</th>\n",
       "      <td>1.064516</td>\n",
       "      <td>4.000000</td>\n",
       "    </tr>\n",
       "    <tr>\n",
       "      <th>2</th>\n",
       "      <td>1.096774</td>\n",
       "      <td>2.500000</td>\n",
       "    </tr>\n",
       "    <tr>\n",
       "      <th>3</th>\n",
       "      <td>1.129032</td>\n",
       "      <td>3.000000</td>\n",
       "    </tr>\n",
       "    <tr>\n",
       "      <th>4</th>\n",
       "      <td>1.161290</td>\n",
       "      <td>4.000000</td>\n",
       "    </tr>\n",
       "    <tr>\n",
       "      <th>5</th>\n",
       "      <td>1.193548</td>\n",
       "      <td>4.000000</td>\n",
       "    </tr>\n",
       "    <tr>\n",
       "      <th>6</th>\n",
       "      <td>1.225806</td>\n",
       "      <td>3.833333</td>\n",
       "    </tr>\n",
       "    <tr>\n",
       "      <th>7</th>\n",
       "      <td>1.258065</td>\n",
       "      <td>1.833333</td>\n",
       "    </tr>\n",
       "    <tr>\n",
       "      <th>8</th>\n",
       "      <td>1.290323</td>\n",
       "      <td>2.666667</td>\n",
       "    </tr>\n",
       "    <tr>\n",
       "      <th>9</th>\n",
       "      <td>1.322581</td>\n",
       "      <td>3.666667</td>\n",
       "    </tr>\n",
       "    <tr>\n",
       "      <th>10</th>\n",
       "      <td>1.354839</td>\n",
       "      <td>4.166667</td>\n",
       "    </tr>\n",
       "    <tr>\n",
       "      <th>11</th>\n",
       "      <td>1.387097</td>\n",
       "      <td>4.333333</td>\n",
       "    </tr>\n",
       "    <tr>\n",
       "      <th>12</th>\n",
       "      <td>1.419355</td>\n",
       "      <td>5.500000</td>\n",
       "    </tr>\n",
       "    <tr>\n",
       "      <th>13</th>\n",
       "      <td>1.451613</td>\n",
       "      <td>4.333333</td>\n",
       "    </tr>\n",
       "    <tr>\n",
       "      <th>14</th>\n",
       "      <td>1.483871</td>\n",
       "      <td>4.500000</td>\n",
       "    </tr>\n",
       "    <tr>\n",
       "      <th>15</th>\n",
       "      <td>1.516129</td>\n",
       "      <td>3.500000</td>\n",
       "    </tr>\n",
       "    <tr>\n",
       "      <th>16</th>\n",
       "      <td>1.548387</td>\n",
       "      <td>4.166667</td>\n",
       "    </tr>\n",
       "    <tr>\n",
       "      <th>17</th>\n",
       "      <td>1.580645</td>\n",
       "      <td>3.666667</td>\n",
       "    </tr>\n",
       "    <tr>\n",
       "      <th>18</th>\n",
       "      <td>1.612903</td>\n",
       "      <td>4.833333</td>\n",
       "    </tr>\n",
       "    <tr>\n",
       "      <th>19</th>\n",
       "      <td>1.645161</td>\n",
       "      <td>4.833333</td>\n",
       "    </tr>\n",
       "    <tr>\n",
       "      <th>20</th>\n",
       "      <td>1.677419</td>\n",
       "      <td>3.666667</td>\n",
       "    </tr>\n",
       "    <tr>\n",
       "      <th>21</th>\n",
       "      <td>1.709677</td>\n",
       "      <td>4.333333</td>\n",
       "    </tr>\n",
       "    <tr>\n",
       "      <th>22</th>\n",
       "      <td>1.741935</td>\n",
       "      <td>5.833333</td>\n",
       "    </tr>\n",
       "    <tr>\n",
       "      <th>23</th>\n",
       "      <td>1.774194</td>\n",
       "      <td>5.166667</td>\n",
       "    </tr>\n",
       "    <tr>\n",
       "      <th>24</th>\n",
       "      <td>1.806452</td>\n",
       "      <td>6.000000</td>\n",
       "    </tr>\n",
       "    <tr>\n",
       "      <th>25</th>\n",
       "      <td>1.838710</td>\n",
       "      <td>6.000000</td>\n",
       "    </tr>\n",
       "    <tr>\n",
       "      <th>26</th>\n",
       "      <td>1.870968</td>\n",
       "      <td>5.833333</td>\n",
       "    </tr>\n",
       "    <tr>\n",
       "      <th>27</th>\n",
       "      <td>1.903226</td>\n",
       "      <td>4.666667</td>\n",
       "    </tr>\n",
       "    <tr>\n",
       "      <th>28</th>\n",
       "      <td>1.935484</td>\n",
       "      <td>4.666667</td>\n",
       "    </tr>\n",
       "    <tr>\n",
       "      <th>29</th>\n",
       "      <td>1.967742</td>\n",
       "      <td>6.833333</td>\n",
       "    </tr>\n",
       "    <tr>\n",
       "      <th>30</th>\n",
       "      <td>2.000000</td>\n",
       "      <td>6.000000</td>\n",
       "    </tr>\n",
       "    <tr>\n",
       "      <th>31</th>\n",
       "      <td>2.032258</td>\n",
       "      <td>5.500000</td>\n",
       "    </tr>\n",
       "    <tr>\n",
       "      <th>32</th>\n",
       "      <td>2.064516</td>\n",
       "      <td>5.833333</td>\n",
       "    </tr>\n",
       "    <tr>\n",
       "      <th>33</th>\n",
       "      <td>2.096774</td>\n",
       "      <td>5.500000</td>\n",
       "    </tr>\n",
       "    <tr>\n",
       "      <th>34</th>\n",
       "      <td>2.129032</td>\n",
       "      <td>6.333333</td>\n",
       "    </tr>\n",
       "  </tbody>\n",
       "</table>\n",
       "</div>"
      ],
      "text/plain": [
       "    monthday  dailyKwh\n",
       "0   1.032258  5.166667\n",
       "1   1.064516  4.000000\n",
       "2   1.096774  2.500000\n",
       "3   1.129032  3.000000\n",
       "4   1.161290  4.000000\n",
       "5   1.193548  4.000000\n",
       "6   1.225806  3.833333\n",
       "7   1.258065  1.833333\n",
       "8   1.290323  2.666667\n",
       "9   1.322581  3.666667\n",
       "10  1.354839  4.166667\n",
       "11  1.387097  4.333333\n",
       "12  1.419355  5.500000\n",
       "13  1.451613  4.333333\n",
       "14  1.483871  4.500000\n",
       "15  1.516129  3.500000\n",
       "16  1.548387  4.166667\n",
       "17  1.580645  3.666667\n",
       "18  1.612903  4.833333\n",
       "19  1.645161  4.833333\n",
       "20  1.677419  3.666667\n",
       "21  1.709677  4.333333\n",
       "22  1.741935  5.833333\n",
       "23  1.774194  5.166667\n",
       "24  1.806452  6.000000\n",
       "25  1.838710  6.000000\n",
       "26  1.870968  5.833333\n",
       "27  1.903226  4.666667\n",
       "28  1.935484  4.666667\n",
       "29  1.967742  6.833333\n",
       "30  2.000000  6.000000\n",
       "31  2.032258  5.500000\n",
       "32  2.064516  5.833333\n",
       "33  2.096774  5.500000\n",
       "34  2.129032  6.333333"
      ]
     },
     "execution_count": 22,
     "metadata": {},
     "output_type": "execute_result"
    }
   ],
   "source": [
    "df_days = df['Date'].str.split(\"/\", n=2, expand=True)\n",
    "df_days[1] = df_days[1].apply('{:0>2}'.format)\n",
    "df_days[0] = df_days[0].astype(float)\n",
    "df_days[1] = df_days[1].astype(float)\n",
    "df_days[1] = df_days[1]/31 #days divided by 31 as the max days in a month\n",
    "df_days['monthday'] = df_days[0]+(df_days[1])\n",
    "df_days['dailyKwh'] = df['DailyGenerations']\n",
    "df_days=df_days.drop([0,1,2], axis=1)\n",
    "\n",
    "df_days.sort_values(by=['monthday'],inplace=True)\n",
    "df_days.info()\n",
    "#df_days.head(30)\n",
    "#df_days.tail()\n",
    "\n",
    "df_days_ave = df_days.groupby(['monthday'], as_index=False).mean()\n",
    "\n",
    "df_days_ave.head(35)"
   ]
  },
  {
   "cell_type": "code",
   "execution_count": 23,
   "metadata": {},
   "outputs": [
    {
     "data": {
      "text/plain": [
       "Text(0, 0.5, 'kWh')"
      ]
     },
     "execution_count": 23,
     "metadata": {},
     "output_type": "execute_result"
    },
    {
     "data": {
      "image/png": "[encoded data removed]",
      "text/plain": [
       "<Figure size 1440x720 with 1 Axes>"
      ]
     },
     "metadata": {
      "needs_background": "light"
     },
     "output_type": "display_data"
    }
   ],
   "source": [
    "plt.figure(figsize=(20,10))\n",
    "plt.scatter(df_days_ave['monthday'],df_days_ave['dailyKwh'])\n",
    "plt.xticks(np.arange(1, 13, step=1))\n",
    "plt.title('Average Daily kWh Generations')\n",
    "plt.xlabel(\"Months\")\n",
    "plt.ylabel(\"kWh\")"
   ]
  },
  {
   "cell_type": "markdown",
   "metadata": {},
   "source": [
    "## Scattered Plot with Linear Regression"
   ]
  },
  {
   "cell_type": "code",
   "execution_count": 24,
   "metadata": {},
   "outputs": [
    {
     "name": "stdout",
     "output_type": "stream",
     "text": [
      "Coefficent: [[-0.06336355]]\n",
      "Intercept: [8.97921857]\n",
      "Root Mean Square Erro: 2.8055104983675303\n",
      "R-Squared: 0.0060862008895784525\n"
     ]
    },
    {
     "data": {
      "image/png": "[encoded data removed]",
      "text/plain": [
       "<Figure size 1440x720 with 1 Axes>"
      ]
     },
     "metadata": {
      "needs_background": "light"
     },
     "output_type": "display_data"
    }
   ],
   "source": [
    "from sklearn.preprocessing import PolynomialFeatures\n",
    "from sklearn.linear_model import LinearRegression\n",
    "from sklearn.metrics import mean_squared_error, r2_score\n",
    "\n",
    "# transforming the data to include another axis\n",
    "x = df_days_ave[['monthday']]\n",
    "y = df_days_ave[['dailyKwh']]\n",
    "\n",
    "model = LinearRegression()\n",
    "model.fit(x, y)\n",
    "y_pred = model.predict(x)\n",
    "\n",
    "print(\"Coefficent:\",model.coef_)\n",
    "print(\"Intercept:\",model.intercept_)\n",
    "\n",
    "rmse = np.sqrt(mean_squared_error(y,y_pred))\n",
    "r2 = r2_score(y,y_pred)\n",
    "print(\"Root Mean Square Erro:\",rmse)\n",
    "print(\"R-Squared:\",r2)\n",
    "\n",
    "plt.figure(figsize=(20,10))\n",
    "plt.scatter(df_days_ave['monthday'], df_days_ave['dailyKwh'], s=10)\n",
    "plt.plot(df_days_ave['monthday'], y_pred, color='r',label=\"y = -0.045x+8.827\")\n",
    "plt.title('Average Daily kWh Generations with Linear Regression')\n",
    "\n",
    "plt.text(12, 12.5, 'RMSE = %0.4f' % rmse)\n",
    "plt.text(12, 12, 'R-squared = %0.4f' % r2)\n",
    "\n",
    "plt.legend()\n",
    "plt.xlabel(\"Months\")\n",
    "plt.ylabel(\"kWh\")\n",
    "plt.show()"
   ]
  },
  {
   "cell_type": "markdown",
   "metadata": {},
   "source": [
    "## Scattered Plot with 2nd Degree Polynomial Regression"
   ]
  },
  {
   "cell_type": "code",
   "execution_count": 25,
   "metadata": {},
   "outputs": [
    {
     "name": "stdout",
     "output_type": "stream",
     "text": [
      "Root Mean Square Error: 1.0420867378874337\n",
      "R-Square: 0.8628699413997598\n",
      "Coefficients: [[ 0.          3.3291543  -0.24190923]]\n",
      "Intercept: [-0.01087695]\n"
     ]
    },
    {
     "data": {
      "image/png": "[encoded data removed]",
      "text/plain": [
       "<Figure size 1440x720 with 1 Axes>"
      ]
     },
     "metadata": {
      "needs_background": "light"
     },
     "output_type": "display_data"
    }
   ],
   "source": [
    "import operator\n",
    "\n",
    "from sklearn.model_selection import train_test_split\n",
    "from sklearn.preprocessing import PolynomialFeatures\n",
    "from sklearn.linear_model import LinearRegression\n",
    "from sklearn.metrics import mean_squared_error, r2_score, mean_absolute_error\n",
    "\n",
    "# transforming the data to include another axis\n",
    "x = df_days_ave[['monthday']]\n",
    "x1 = df_days_ave['monthday']\n",
    "y = df_days_ave[['dailyKwh']]\n",
    "y1 = df_days_ave['dailyKwh']\n",
    "\n",
    "polynomial_features = PolynomialFeatures(degree=2)\n",
    "x_poly = polynomial_features.fit_transform(x)\n",
    "\n",
    "model = LinearRegression()\n",
    "model.fit(x_poly, y)\n",
    "y_poly_pred = model.predict(x_poly)\n",
    "\n",
    "rmse = np.sqrt(mean_squared_error(y,y_poly_pred))\n",
    "r2 = r2_score(y,y_poly_pred)\n",
    "print(\"Root Mean Square Error:\",rmse)\n",
    "print(\"R-Square:\",r2)\n",
    "\n",
    "print(\"Coefficients:\",model.coef_)\n",
    "print(\"Intercept:\",model.intercept_)\n",
    "\n",
    "plt.figure(figsize=(20,10))\n",
    "plt.scatter(x1, y1, s=10)\n",
    "# sort the values of x before line plot\n",
    "sort_axis = operator.itemgetter(0)\n",
    "sorted_zip = sorted(zip(x,y_poly_pred), key=sort_axis)\n",
    "x, y_poly_pred = zip(*sorted_zip)\n",
    "\n",
    "XX = np.arange(1.0, 13.0, 0.2)\n",
    "poly_func = model.intercept_ + model.coef_[0][1]*XX + model.coef_[0][2]*np.power(XX,2)\n",
    "plt.plot(XX, poly_func, color='r',label=\"y=-0.24x^2+3.33x-0.01\")\n",
    "\n",
    "plt.text(12, 12.5, 'RMSE = %0.4f' % rmse)\n",
    "plt.text(12, 12, 'R-squared = %0.4f' % r2)\n",
    "\n",
    "plt.title('Average Daily kWh Generations with 2nd Degree Polynomial Regression')\n",
    "plt.xlabel(\"Months\")\n",
    "plt.ylabel(\"kWh\")\n",
    "\n",
    "plt.legend()\n",
    "plt.show()"
   ]
  },
  {
   "cell_type": "code",
   "execution_count": 26,
   "metadata": {},
   "outputs": [
    {
     "name": "stdout",
     "output_type": "stream",
     "text": [
      "<class 'pandas.core.frame.DataFrame'>\n",
      "RangeIndex: 2282 entries, 0 to 2281\n",
      "Data columns (total 5 columns):\n",
      " #   Column            Non-Null Count  Dtype \n",
      "---  ------            --------------  ----- \n",
      " 0   Date              2282 non-null   object\n",
      " 1   ID                2282 non-null   int64 \n",
      " 2   Net Kwh           2282 non-null   int64 \n",
      " 3   DailyGenerations  2282 non-null   int64 \n",
      " 4   Year              2282 non-null   object\n",
      "dtypes: int64(3), object(2)\n",
      "memory usage: 89.3+ KB\n"
     ]
    }
   ],
   "source": [
    "df.info()"
   ]
  },
  {
   "cell_type": "code",
   "execution_count": 27,
   "metadata": {},
   "outputs": [
    {
     "name": "stdout",
     "output_type": "stream",
     "text": [
      "<class 'pandas.core.frame.DataFrame'>\n",
      "DatetimeIndex: 2282 entries, 2015-09-01 to 2021-11-29\n",
      "Data columns (total 2 columns):\n",
      " #   Column            Non-Null Count  Dtype  \n",
      "---  ------            --------------  -----  \n",
      " 0   Date              2282 non-null   object \n",
      " 1   DailyGenerations  2282 non-null   float64\n",
      "dtypes: float64(1), object(1)\n",
      "memory usage: 53.5+ KB\n"
     ]
    },
    {
     "data": {
      "image/png": "[encoded data removed]",
      "text/plain": [
       "<Figure size 1440x216 with 1 Axes>"
      ]
     },
     "metadata": {
      "needs_background": "light"
     },
     "output_type": "display_data"
    }
   ],
   "source": [
    "df_ts = df.copy()\n",
    "df_ts.index = pd.to_datetime(df_ts.Date)\n",
    "df_ts = df_ts.drop(columns=['ID','Net Kwh','Year'])\n",
    "df_ts['DailyGenerations'] = df_ts['DailyGenerations'].astype(float)\n",
    "#df_ts = df_ts.astype({\"DailyGeneration\": float})\n",
    "df_ts.info()\n",
    "#df_ts.head()\n",
    "plt.figure(figsize=(20,3))\n",
    "plt.scatter(df_ts.Date, df_ts.DailyGenerations)\n",
    "plt.xticks(np.arange(0, len(df_ts), step=200))  # Set label locations.\n",
    "plt.title('Daily Solar Generation Time Series')\n",
    "plt.show()"
   ]
  },
  {
   "cell_type": "code",
   "execution_count": 28,
   "metadata": {},
   "outputs": [
    {
     "data": {
      "image/png": "[encoded data removed]",
      "text/plain": [
       "<Figure size 432x288 with 1 Axes>"
      ]
     },
     "metadata": {
      "needs_background": "light"
     },
     "output_type": "display_data"
    }
   ],
   "source": [
    "df_ts['diff_1'] = df_ts.DailyGenerations - df_ts.DailyGenerations.shift()\n",
    "df_ts.plot(y='diff_1')\n",
    "plt.title('Daily Solar Generation Time Series')\n",
    "plt.show()"
   ]
  },
  {
   "cell_type": "code",
   "execution_count": 29,
   "metadata": {},
   "outputs": [
    {
     "data": {
      "text/plain": [
       "Text(0.5, 1.0, 'Solar Generation PACF')"
      ]
     },
     "execution_count": 29,
     "metadata": {},
     "output_type": "execute_result"
    },
    {
     "data": {
      "image/png": "[encoded data removed]",
      "text/plain": [
       "<Figure size 432x288 with 1 Axes>"
      ]
     },
     "metadata": {
      "needs_background": "light"
     },
     "output_type": "display_data"
    }
   ],
   "source": [
    "from statsmodels.tsa.stattools import pacf\n",
    "x_acf = pd.DataFrame(pacf(df_ts.DailyGenerations))\n",
    "x_acf.plot(kind='bar')\n",
    "plt.title(\"Solar Generation PACF\")"
   ]
  },
  {
   "cell_type": "code",
   "execution_count": 30,
   "metadata": {},
   "outputs": [
    {
     "data": {
      "text/plain": [
       "<matplotlib.legend.Legend at 0x1ffd2d277f0>"
      ]
     },
     "execution_count": 30,
     "metadata": {},
     "output_type": "execute_result"
    },
    {
     "data": {
      "image/png": "[encoded data removed]",
      "text/plain": [
       "<Figure size 432x288 with 1 Axes>"
      ]
     },
     "metadata": {
      "needs_background": "light"
     },
     "output_type": "display_data"
    }
   ],
   "source": [
    "x_acf = pd.DataFrame(pacf(df_ts.diff_1[1:]))\n",
    "x_acf.plot(kind='bar')\n",
    "plt.title(\"Solar Generation Diff PACF\")\n",
    "plt.legend(['difference'])"
   ]
  },
  {
   "cell_type": "code",
   "execution_count": 31,
   "metadata": {},
   "outputs": [
    {
     "name": "stderr",
     "output_type": "stream",
     "text": [
      "C:\\Users\\Low\\Anaconda3\\lib\\site-packages\\statsmodels\\tsa\\base\\tsa_model.py:162: ValueWarning: No frequency information was provided, so inferred frequency D will be used.\n",
      "  % freq, ValueWarning)\n",
      "C:\\Users\\Low\\Anaconda3\\lib\\site-packages\\statsmodels\\tsa\\base\\tsa_model.py:162: ValueWarning: No frequency information was provided, so inferred frequency D will be used.\n",
      "  % freq, ValueWarning)\n"
     ]
    },
    {
     "name": "stdout",
     "output_type": "stream",
     "text": [
      "                             ARIMA Model Results                              \n",
      "==============================================================================\n",
      "Dep. Variable:     D.DailyGenerations   No. Observations:                 2281\n",
      "Model:                 ARIMA(0, 1, 0)   Log Likelihood               -5297.959\n",
      "Method:                           css   S.D. of innovations              2.469\n",
      "Date:                Mon, 29 Nov 2021   AIC                          10599.917\n",
      "Time:                        22:22:08   BIC                          10611.382\n",
      "Sample:                    09-02-2015   HQIC                         10604.099\n",
      "                         - 11-29-2021                                         \n",
      "==============================================================================\n",
      "                 coef    std err          z      P>|z|      [0.025      0.975]\n",
      "------------------------------------------------------------------------------\n",
      "const         -0.0026      0.052     -0.051      0.959      -0.104       0.099\n",
      "==============================================================================\n",
      "Residuals Description\n",
      "count    2.281000e+03\n",
      "mean     1.772248e-08\n",
      "std      2.469284e+00\n",
      "min     -9.997370e+00\n",
      "25%     -9.973696e-01\n",
      "50%      2.630443e-03\n",
      "75%      1.002630e+00\n",
      "max      1.000263e+01\n",
      "dtype: float64\n"
     ]
    }
   ],
   "source": [
    "from statsmodels.tsa.arima_model import ARIMA\n",
    "model = ARIMA(df_ts.DailyGenerations, order=(0,1,0))\n",
    "model_fit = model.fit()\n",
    "print(model_fit.summary())\n",
    "print('Residuals Description')\n",
    "print(model_fit.resid.describe())"
   ]
  },
  {
   "cell_type": "code",
   "execution_count": 32,
   "metadata": {},
   "outputs": [
    {
     "name": "stderr",
     "output_type": "stream",
     "text": [
      "C:\\Users\\Low\\Anaconda3\\lib\\site-packages\\statsmodels\\tsa\\base\\tsa_model.py:162: ValueWarning: No frequency information was provided, so inferred frequency D will be used.\n",
      "  % freq, ValueWarning)\n"
     ]
    },
    {
     "name": "stdout",
     "output_type": "stream",
     "text": [
      "                              ARMA Model Results                              \n",
      "==============================================================================\n",
      "Dep. Variable:       DailyGenerations   No. Observations:                 2282\n",
      "Model:                     ARMA(1, 0)   Log Likelihood               -5139.834\n",
      "Method:                       css-mle   S.D. of innovations              2.301\n",
      "Date:                Mon, 29 Nov 2021   AIC                          10285.669\n",
      "Time:                        22:22:09   BIC                          10302.867\n",
      "Sample:                    09-01-2015   HQIC                         10291.942\n",
      "                         - 11-29-2021                                         \n",
      "==========================================================================================\n",
      "                             coef    std err          z      P>|z|      [0.025      0.975]\n",
      "------------------------------------------------------------------------------------------\n",
      "const                      8.4986      0.183     46.442      0.000       8.140       8.857\n",
      "ar.L1.DailyGenerations     0.7371      0.014     52.135      0.000       0.709       0.765\n",
      "                                    Roots                                    \n",
      "=============================================================================\n",
      "                  Real          Imaginary           Modulus         Frequency\n",
      "-----------------------------------------------------------------------------\n",
      "AR.1            1.3566           +0.0000j            1.3566            0.0000\n",
      "-----------------------------------------------------------------------------\n",
      "Residuals Description\n",
      "count    2282.000000\n",
      "mean       -0.001131\n",
      "std         2.301870\n",
      "min        -9.079586\n",
      "25%        -1.079586\n",
      "50%         0.183284\n",
      "75%         1.183284\n",
      "max         8.028838\n",
      "dtype: float64\n"
     ]
    }
   ],
   "source": [
    "from statsmodels.tsa.arima_model import ARIMA\n",
    "model = ARIMA(df_ts.DailyGenerations, order=(1,0,0))\n",
    "model_fit = model.fit()\n",
    "print(model_fit.summary())\n",
    "print('Residuals Description')\n",
    "print(model_fit.resid.describe())"
   ]
  },
  {
   "cell_type": "code",
   "execution_count": 33,
   "metadata": {},
   "outputs": [
    {
     "name": "stderr",
     "output_type": "stream",
     "text": [
      "C:\\Users\\Low\\Anaconda3\\lib\\site-packages\\statsmodels\\tsa\\base\\tsa_model.py:162: ValueWarning: No frequency information was provided, so inferred frequency D will be used.\n",
      "  % freq, ValueWarning)\n"
     ]
    },
    {
     "name": "stdout",
     "output_type": "stream",
     "text": [
      "                              ARMA Model Results                              \n",
      "==============================================================================\n",
      "Dep. Variable:       DailyGenerations   No. Observations:                 2282\n",
      "Model:                     ARMA(1, 1)   Log Likelihood               -4941.392\n",
      "Method:                       css-mle   S.D. of innovations              2.109\n",
      "Date:                Mon, 29 Nov 2021   AIC                           9890.783\n",
      "Time:                        22:22:10   BIC                           9913.715\n",
      "Sample:                    09-01-2015   HQIC                          9899.147\n",
      "                         - 11-29-2021                                         \n",
      "==========================================================================================\n",
      "                             coef    std err          z      P>|z|      [0.025      0.975]\n",
      "------------------------------------------------------------------------------------------\n",
      "const                      8.5048      0.536     15.855      0.000       7.453       9.556\n",
      "ar.L1.DailyGenerations     0.9754      0.006    161.425      0.000       0.964       0.987\n",
      "ma.L1.DailyGenerations    -0.6956      0.026    -26.756      0.000      -0.747      -0.645\n",
      "                                    Roots                                    \n",
      "=============================================================================\n",
      "                  Real          Imaginary           Modulus         Frequency\n",
      "-----------------------------------------------------------------------------\n",
      "AR.1            1.0253           +0.0000j            1.0253            0.0000\n",
      "MA.1            1.4375           +0.0000j            1.4375            0.0000\n",
      "-----------------------------------------------------------------------------\n",
      "Residuals Description\n",
      "count    2282.000000\n",
      "mean       -0.006496\n",
      "std         2.110086\n",
      "min        -8.164864\n",
      "25%        -0.854966\n",
      "50%         0.273557\n",
      "75%         1.229460\n",
      "max         6.875506\n",
      "dtype: float64\n"
     ]
    }
   ],
   "source": [
    "from statsmodels.tsa.arima_model import ARIMA\n",
    "model = ARIMA(df_ts.DailyGenerations, order=(1,0,1))\n",
    "model_fit = model.fit(disp=0)\n",
    "print(model_fit.summary())\n",
    "print('Residuals Description')\n",
    "print(model_fit.resid.describe())"
   ]
  },
  {
   "cell_type": "code",
   "execution_count": 34,
   "metadata": {},
   "outputs": [
    {
     "name": "stderr",
     "output_type": "stream",
     "text": [
      "C:\\Users\\Low\\Anaconda3\\lib\\site-packages\\statsmodels\\tsa\\base\\tsa_model.py:162: ValueWarning: No frequency information was provided, so inferred frequency D will be used.\n",
      "  % freq, ValueWarning)\n",
      "C:\\Users\\Low\\Anaconda3\\lib\\site-packages\\statsmodels\\tsa\\base\\tsa_model.py:162: ValueWarning: No frequency information was provided, so inferred frequency D will be used.\n",
      "  % freq, ValueWarning)\n"
     ]
    },
    {
     "name": "stdout",
     "output_type": "stream",
     "text": [
      "                             ARIMA Model Results                              \n",
      "==============================================================================\n",
      "Dep. Variable:     D.DailyGenerations   No. Observations:                 2281\n",
      "Model:                 ARIMA(1, 1, 1)   Log Likelihood               -4907.061\n",
      "Method:                       css-mle   S.D. of innovations              2.079\n",
      "Date:                Mon, 29 Nov 2021   AIC                           9822.121\n",
      "Time:                        22:22:10   BIC                           9845.051\n",
      "Sample:                    09-02-2015   HQIC                          9830.485\n",
      "                         - 11-29-2021                                         \n",
      "============================================================================================\n",
      "                               coef    std err          z      P>|z|      [0.025      0.975]\n",
      "--------------------------------------------------------------------------------------------\n",
      "const                       -0.0022      0.007     -0.310      0.757      -0.016       0.012\n",
      "ar.L1.D.DailyGenerations     0.2604      0.025     10.271      0.000       0.211       0.310\n",
      "ma.L1.D.DailyGenerations    -0.8779      0.013    -69.189      0.000      -0.903      -0.853\n",
      "                                    Roots                                    \n",
      "=============================================================================\n",
      "                  Real          Imaginary           Modulus         Frequency\n",
      "-----------------------------------------------------------------------------\n",
      "AR.1            3.8405           +0.0000j            3.8405            0.0000\n",
      "MA.1            1.1390           +0.0000j            1.1390            0.0000\n",
      "-----------------------------------------------------------------------------\n",
      "Residuals Description\n",
      "count    2281.000000\n",
      "mean       -0.001938\n",
      "std         2.080035\n",
      "min        -8.072980\n",
      "25%        -0.854902\n",
      "50%         0.200805\n",
      "75%         1.219048\n",
      "max         7.646910\n",
      "dtype: float64\n"
     ]
    }
   ],
   "source": [
    "from statsmodels.tsa.arima_model import ARIMA\n",
    "model_111 = ARIMA(df_ts.DailyGenerations, order=(1,1,1))\n",
    "model_111_fit = model_111.fit()\n",
    "print(model_111_fit.summary())\n",
    "print('Residuals Description')\n",
    "print(model_111_fit.resid.describe())"
   ]
  },
  {
   "cell_type": "code",
   "execution_count": 35,
   "metadata": {},
   "outputs": [
    {
     "name": "stderr",
     "output_type": "stream",
     "text": [
      "C:\\Users\\Low\\Anaconda3\\lib\\site-packages\\statsmodels\\tsa\\base\\tsa_model.py:162: ValueWarning: No frequency information was provided, so inferred frequency D will be used.\n",
      "  % freq, ValueWarning)\n",
      "C:\\Users\\Low\\Anaconda3\\lib\\site-packages\\statsmodels\\tsa\\base\\tsa_model.py:162: ValueWarning: No frequency information was provided, so inferred frequency D will be used.\n",
      "  % freq, ValueWarning)\n"
     ]
    },
    {
     "name": "stdout",
     "output_type": "stream",
     "text": [
      "                             ARIMA Model Results                              \n",
      "==============================================================================\n",
      "Dep. Variable:     D.DailyGenerations   No. Observations:                 2281\n",
      "Model:                 ARIMA(4, 1, 4)   Log Likelihood               -4901.681\n",
      "Method:                       css-mle   S.D. of innovations              2.075\n",
      "Date:                Mon, 29 Nov 2021   AIC                           9823.363\n",
      "Time:                        22:22:14   BIC                           9880.687\n",
      "Sample:                    09-02-2015   HQIC                          9844.271\n",
      "                         - 11-29-2021                                         \n",
      "============================================================================================\n",
      "                               coef    std err          z      P>|z|      [0.025      0.975]\n",
      "--------------------------------------------------------------------------------------------\n",
      "const                       -0.0022      0.007     -0.315      0.753      -0.016       0.012\n",
      "ar.L1.D.DailyGenerations    -1.4068      0.202     -6.954      0.000      -1.803      -1.010\n",
      "ar.L2.D.DailyGenerations    -0.9637      0.358     -2.694      0.007      -1.665      -0.263\n",
      "ar.L3.D.DailyGenerations    -0.2269      0.153     -1.482      0.138      -0.527       0.073\n",
      "ar.L4.D.DailyGenerations     0.2329      0.051      4.572      0.000       0.133       0.333\n",
      "ma.L1.D.DailyGenerations     0.7814      0.206      3.802      0.000       0.379       1.184\n",
      "ma.L2.D.DailyGenerations    -0.0366      0.242     -0.151      0.880      -0.511       0.438\n",
      "ma.L3.D.DailyGenerations    -0.5962      0.154     -3.872      0.000      -0.898      -0.294\n",
      "ma.L4.D.DailyGenerations    -0.6087      0.188     -3.245      0.001      -0.976      -0.241\n",
      "                                    Roots                                    \n",
      "=============================================================================\n",
      "                  Real          Imaginary           Modulus         Frequency\n",
      "-----------------------------------------------------------------------------\n",
      "AR.1           -1.0815           -0.0000j            1.0815           -0.5000\n",
      "AR.2           -0.5175           -1.0083j            1.1334           -0.3255\n",
      "AR.3           -0.5175           +1.0083j            1.1334            0.3255\n",
      "AR.4            3.0906           -0.0000j            3.0906           -0.0000\n",
      "MA.1            1.1267           -0.0000j            1.1267           -0.0000\n",
      "MA.2           -0.5035           -1.0358j            1.1517           -0.3220\n",
      "MA.3           -0.5035           +1.0358j            1.1517            0.3220\n",
      "MA.4           -1.0992           -0.0000j            1.0992           -0.5000\n",
      "-----------------------------------------------------------------------------\n",
      "Residuals Description\n",
      "count    2281.000000\n",
      "mean       -0.002112\n",
      "std         2.075144\n",
      "min        -8.079189\n",
      "25%        -0.867126\n",
      "50%         0.201527\n",
      "75%         1.228587\n",
      "max         7.636072\n",
      "dtype: float64\n"
     ]
    }
   ],
   "source": [
    "from statsmodels.tsa.arima_model import ARIMA\n",
    "model_414 = ARIMA(df_ts.DailyGenerations, order=(4,1,4))\n",
    "model_414_fit = model_414.fit()\n",
    "print(model_414_fit.summary())\n",
    "print('Residuals Description')\n",
    "print(model_414_fit.resid.describe())"
   ]
  },
  {
   "cell_type": "code",
   "execution_count": 36,
   "metadata": {},
   "outputs": [
    {
     "data": {
      "text/plain": [
       "Text(0.5, 1.0, 'Histogram of Residuals')"
      ]
     },
     "execution_count": 36,
     "metadata": {},
     "output_type": "execute_result"
    },
    {
     "data": {
      "image/png": "[encoded data removed]",
      "text/plain": [
       "<Figure size 432x288 with 1 Axes>"
      ]
     },
     "metadata": {
      "needs_background": "light"
     },
     "output_type": "display_data"
    },
    {
     "data": {
      "image/png": "[encoded data removed]",
      "text/plain": [
       "<Figure size 432x288 with 1 Axes>"
      ]
     },
     "metadata": {
      "needs_background": "light"
     },
     "output_type": "display_data"
    }
   ],
   "source": [
    "residuals = pd.DataFrame(model_111_fit.resid)\n",
    "\n",
    "residuals.plot(legend=False)\n",
    "plt.title('Time Series of Residuals')\n",
    "\n",
    "residuals.hist(bins=20)\n",
    "plt.title('Histogram of Residuals')"
   ]
  },
  {
   "cell_type": "code",
   "execution_count": null,
   "metadata": {},
   "outputs": [],
   "source": []
  }
 ],
 "metadata": {
  "kernelspec": {
   "display_name": "Python 3",
   "language": "python",
   "name": "python3"
  },
  "language_info": {
   "codemirror_mode": {
    "name": "ipython",
    "version": 3
   },
   "file_extension": ".py",
   "mimetype": "text/x-python",
   "name": "python",
   "nbconvert_exporter": "python",
   "pygments_lexer": "ipython3",
   "version": "3.7.3"
  }
 },
 "nbformat": 4,
 "nbformat_minor": 4
}
